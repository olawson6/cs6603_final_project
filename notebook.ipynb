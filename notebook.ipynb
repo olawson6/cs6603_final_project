{
 "cells": [
  {
   "cell_type": "markdown",
   "id": "887e981e",
   "metadata": {},
   "source": [
    "# Home Mortgage Disclosure Act Final Project"
   ]
  },
  {
   "cell_type": "code",
   "execution_count": 2,
   "id": "91450194",
   "metadata": {},
   "outputs": [],
   "source": [
    "import warnings\n",
    "import pandas as pd\n",
    "warnings.filterwarnings(\"ignore\", category=pd.errors.SettingWithCopyWarning)\n"
   ]
  },
  {
   "cell_type": "markdown",
   "id": "6070960d",
   "metadata": {},
   "source": [
    "### Step 1. Dataset Selection"
   ]
  },
  {
   "cell_type": "code",
   "execution_count": 3,
   "id": "bde80dde",
   "metadata": {},
   "outputs": [
    {
     "name": "stderr",
     "output_type": "stream",
     "text": [
      "/var/folders/mk/0rr9xxs16xg_99dy8_m3zqrw0000gn/T/ipykernel_16310/2768295705.py:2: DtypeWarning: Columns (22,23,24,26,27,28,29,30,31,32,33,38,43,44) have mixed types. Specify dtype option on import or set low_memory=False.\n",
      "  data = pd.read_csv(file)\n"
     ]
    }
   ],
   "source": [
    "file = \"state_GA.csv\" \n",
    "data = pd.read_csv(file)\n",
    "\n",
    "data_reduced = data[['lei', 'derived_ethnicity', 'derived_race', 'derived_sex', 'loan_amount', 'debt_to_income_ratio', 'loan_purpose', 'loan_term', 'action_taken', 'denial_reason-1', 'denial_reason-2', \n",
    "                     'income', 'applicant_age', 'total_loan_costs', 'interest_rate', 'applicant_race-1', 'applicant_race-2', 'applicant_sex','co-applicant_sex']]"
   ]
  },
  {
   "cell_type": "code",
   "execution_count": 4,
   "id": "85080082",
   "metadata": {},
   "outputs": [],
   "source": [
    "## Only Need to run once\n",
    "data_reduced.to_csv(\"state_GA_reduced.csv\", index=False)\n",
    "hmda_data = pd.read_csv(\"state_GA_reduced.csv\")"
   ]
  },
  {
   "cell_type": "code",
   "execution_count": 5,
   "id": "d7211f56",
   "metadata": {},
   "outputs": [],
   "source": [
    "sex_map = {\n",
    "    1: \"Male\",\n",
    "    2: \"Female\",\n",
    "    6: \"Applicant selected both male and female\"\n",
    "}\n",
    "\n",
    "race_map = {\n",
    "    1: \"American Indian or Alaska Native\",\n",
    "    2: \"Asian\",\n",
    "    21: \"Asian Indian\",\n",
    "    22: \"Chinese\",\n",
    "    23: \"Filipino\",\n",
    "    24: \"Japanese\",\n",
    "    25: \"Korean\",\n",
    "    26: \"Vietnamese\",\n",
    "    27: \"Other Asian\",\n",
    "    3: \"Black or African American\",\n",
    "    4: \"Native Hawaiian or Other Pacific Islander\",\n",
    "    41: \"Native Hawaiian\",\n",
    "    42: \"Guamanian or Chamorro\",\n",
    "    43: \"Samoan\",\n",
    "    44: \"Other Pacific Islander\",\n",
    "    5: \"White\"\n",
    "}\n",
    "\n",
    "data_reduced['applicant_race-1'] = pd.to_numeric(data_reduced['applicant_race-1'], errors='coerce')\n",
    "data_reduced['applicant_race-2'] = pd.to_numeric(data_reduced['applicant_race-2'], errors='coerce')\n",
    "data_reduced['applicant_sex'] = pd.to_numeric(data_reduced['applicant_sex'], errors='coerce')\n",
    "data_reduced['co-applicant_sex'] = pd.to_numeric(data_reduced['co-applicant_sex'], errors='coerce')\n",
    "\n",
    "filtered = data_reduced[\n",
    "    data_reduced['applicant_race-1'].isin(race_map.keys()) &\n",
    "    (\n",
    "        data_reduced['applicant_race-2'].isna() |\n",
    "        data_reduced['applicant_race-2'].isin(race_map.keys())\n",
    "    ) &\n",
    "    data_reduced['applicant_sex'].isin(sex_map.keys()) &\n",
    "    (\n",
    "        data_reduced['co-applicant_sex'].isna() |\n",
    "        data_reduced['co-applicant_sex'].isin(sex_map.keys())\n",
    "    )\n",
    "\n",
    "]\n",
    "\n",
    "filtered['race_1_str'] = filtered['applicant_race-1'].map(race_map)\n",
    "filtered['race_2_str'] = filtered['applicant_race-2'].map(race_map)\n",
    "def combine_races_str(row):\n",
    "    if pd.isna(row['race_2_str']) or row['race_2_str'] == \"\":\n",
    "        return row['race_1_str']\n",
    "    return f\"{row['race_1_str']}, {row['race_2_str']}\"\n",
    "def combine_sexs_str(row):\n",
    "    if pd.isna(row['co-applicant_sex']) or row['co-applicant_sex'] == \"\":\n",
    "        return row['applicant_sex']\n",
    "    return f\"{row['applicant_sex']}, {row['co-applicant_sex']}\"\n",
    "\n",
    "filtered['derived_race_new'] = filtered.apply(combine_races_str, axis=1)\n",
    "\n",
    "filtered['applicant_sex'] = filtered['applicant_sex'].map(sex_map)\n",
    "filtered['co-applicant_sex'] = filtered['co-applicant_sex'].map(sex_map)\n",
    "\n",
    "filtered['derived_sex_new'] = filtered.apply(combine_sexs_str, axis=1)\n",
    "\n",
    "filtered = filtered[filtered['action_taken'] != 6]\n",
    "filtered = filtered[filtered['interest_rate'] != 'Exempt']\n",
    "\n",
    "\n",
    "filtered['favorable_action_taken'] = filtered['action_taken'].apply(\n",
    "    lambda x: 1 if x in [1, 2, 8] else (0 if x in [3, 4, 5, 7] else pd.NA)\n",
    ")\n",
    "filtered['interest_rate'].unique()\n",
    "filtered['favorable_interest_rate'] = filtered['interest_rate'].apply(\n",
    "    lambda x: 1 if float(x) <= 7.5 else 0)\n",
    "\n",
    "unique_races = sorted(filtered['derived_race_new'].unique())\n",
    "unique_sexes = sorted(filtered['derived_sex_new'].unique())\n",
    "\n",
    "# New encoding dictionaries\n",
    "final_race_encoding = {race: i for i, race in enumerate(unique_races)}\n",
    "final_sex_encoding = {sex: i for i, sex in enumerate(unique_sexes)}\n",
    "\n",
    "filtered['derived_race_encoded'] = filtered['derived_race_new'].map(final_race_encoding)\n",
    "filtered['derived_sex_encoded'] = filtered['derived_sex_new'].map(final_sex_encoding)\n",
    "\n",
    "\n",
    "filtered.to_csv(\"state_GA_reduced_encoded.csv\", index=False)"
   ]
  },
  {
   "cell_type": "code",
   "execution_count": 9,
   "id": "d14f1d3b",
   "metadata": {},
   "outputs": [
    {
     "name": "stdout",
     "output_type": "stream",
     "text": [
      "\n",
      "===== Frequency Table: derived_race_new vs favorable_action_taken =====\n",
      "\n"
     ]
    },
    {
     "data": {
      "text/html": [
       "<div>\n",
       "<style scoped>\n",
       "    .dataframe tbody tr th:only-of-type {\n",
       "        vertical-align: middle;\n",
       "    }\n",
       "\n",
       "    .dataframe tbody tr th {\n",
       "        vertical-align: top;\n",
       "    }\n",
       "\n",
       "    .dataframe thead th {\n",
       "        text-align: right;\n",
       "    }\n",
       "</style>\n",
       "<table border=\"1\" class=\"dataframe\">\n",
       "  <thead>\n",
       "    <tr style=\"text-align: right;\">\n",
       "      <th>Favorable Action Taken</th>\n",
       "      <th>0</th>\n",
       "      <th>1</th>\n",
       "      <th>All</th>\n",
       "    </tr>\n",
       "    <tr>\n",
       "      <th>Race</th>\n",
       "      <th></th>\n",
       "      <th></th>\n",
       "      <th></th>\n",
       "    </tr>\n",
       "  </thead>\n",
       "  <tbody>\n",
       "    <tr>\n",
       "      <th>All</th>\n",
       "      <td>38759</td>\n",
       "      <td>67436</td>\n",
       "      <td>106195</td>\n",
       "    </tr>\n",
       "    <tr>\n",
       "      <th>White</th>\n",
       "      <td>25211</td>\n",
       "      <td>50230</td>\n",
       "      <td>75441</td>\n",
       "    </tr>\n",
       "    <tr>\n",
       "      <th>Black or African American</th>\n",
       "      <td>10085</td>\n",
       "      <td>11103</td>\n",
       "      <td>21188</td>\n",
       "    </tr>\n",
       "    <tr>\n",
       "      <th>Asian, Asian Indian</th>\n",
       "      <td>816</td>\n",
       "      <td>1665</td>\n",
       "      <td>2481</td>\n",
       "    </tr>\n",
       "    <tr>\n",
       "      <th>Asian</th>\n",
       "      <td>446</td>\n",
       "      <td>778</td>\n",
       "      <td>1224</td>\n",
       "    </tr>\n",
       "    <tr>\n",
       "      <th>...</th>\n",
       "      <td>...</td>\n",
       "      <td>...</td>\n",
       "      <td>...</td>\n",
       "    </tr>\n",
       "    <tr>\n",
       "      <th>Japanese, White</th>\n",
       "      <td>0</td>\n",
       "      <td>1</td>\n",
       "      <td>1</td>\n",
       "    </tr>\n",
       "    <tr>\n",
       "      <th>Korean, Asian</th>\n",
       "      <td>0</td>\n",
       "      <td>1</td>\n",
       "      <td>1</td>\n",
       "    </tr>\n",
       "    <tr>\n",
       "      <th>Native Hawaiian or Other Pacific Islander, Asian Indian</th>\n",
       "      <td>0</td>\n",
       "      <td>1</td>\n",
       "      <td>1</td>\n",
       "    </tr>\n",
       "    <tr>\n",
       "      <th>Native Hawaiian, White</th>\n",
       "      <td>0</td>\n",
       "      <td>1</td>\n",
       "      <td>1</td>\n",
       "    </tr>\n",
       "    <tr>\n",
       "      <th>Japanese, Guamanian or Chamorro</th>\n",
       "      <td>1</td>\n",
       "      <td>0</td>\n",
       "      <td>1</td>\n",
       "    </tr>\n",
       "  </tbody>\n",
       "</table>\n",
       "<p>89 rows × 3 columns</p>\n",
       "</div>"
      ],
      "text/plain": [
       "Favorable Action Taken                                  0      1     All\n",
       "Race                                                                    \n",
       "All                                                 38759  67436  106195\n",
       "White                                               25211  50230   75441\n",
       "Black or African American                           10085  11103   21188\n",
       "Asian, Asian Indian                                   816   1665    2481\n",
       "Asian                                                 446    778    1224\n",
       "...                                                   ...    ...     ...\n",
       "Japanese, White                                         0      1       1\n",
       "Korean, Asian                                           0      1       1\n",
       "Native Hawaiian or Other Pacific Islander, Asia...      0      1       1\n",
       "Native Hawaiian, White                                  0      1       1\n",
       "Japanese, Guamanian or Chamorro                         1      0       1\n",
       "\n",
       "[89 rows x 3 columns]"
      ]
     },
     "metadata": {},
     "output_type": "display_data"
    },
    {
     "name": "stdout",
     "output_type": "stream",
     "text": [
      "\n",
      "===== Frequency Table: derived_race_new vs favorable_interest_rate =====\n",
      "\n"
     ]
    },
    {
     "data": {
      "text/html": [
       "<div>\n",
       "<style scoped>\n",
       "    .dataframe tbody tr th:only-of-type {\n",
       "        vertical-align: middle;\n",
       "    }\n",
       "\n",
       "    .dataframe tbody tr th {\n",
       "        vertical-align: top;\n",
       "    }\n",
       "\n",
       "    .dataframe thead th {\n",
       "        text-align: right;\n",
       "    }\n",
       "</style>\n",
       "<table border=\"1\" class=\"dataframe\">\n",
       "  <thead>\n",
       "    <tr style=\"text-align: right;\">\n",
       "      <th>Favorable Interest Rate</th>\n",
       "      <th>0</th>\n",
       "      <th>1</th>\n",
       "      <th>All</th>\n",
       "    </tr>\n",
       "    <tr>\n",
       "      <th>Race</th>\n",
       "      <th></th>\n",
       "      <th></th>\n",
       "      <th></th>\n",
       "    </tr>\n",
       "  </thead>\n",
       "  <tbody>\n",
       "    <tr>\n",
       "      <th>All</th>\n",
       "      <td>55453</td>\n",
       "      <td>50742</td>\n",
       "      <td>106195</td>\n",
       "    </tr>\n",
       "    <tr>\n",
       "      <th>White</th>\n",
       "      <td>38515</td>\n",
       "      <td>36926</td>\n",
       "      <td>75441</td>\n",
       "    </tr>\n",
       "    <tr>\n",
       "      <th>Black or African American</th>\n",
       "      <td>12537</td>\n",
       "      <td>8651</td>\n",
       "      <td>21188</td>\n",
       "    </tr>\n",
       "    <tr>\n",
       "      <th>Asian, Asian Indian</th>\n",
       "      <td>1041</td>\n",
       "      <td>1440</td>\n",
       "      <td>2481</td>\n",
       "    </tr>\n",
       "    <tr>\n",
       "      <th>Asian</th>\n",
       "      <td>613</td>\n",
       "      <td>611</td>\n",
       "      <td>1224</td>\n",
       "    </tr>\n",
       "    <tr>\n",
       "      <th>...</th>\n",
       "      <td>...</td>\n",
       "      <td>...</td>\n",
       "      <td>...</td>\n",
       "    </tr>\n",
       "    <tr>\n",
       "      <th>Japanese, White</th>\n",
       "      <td>0</td>\n",
       "      <td>1</td>\n",
       "      <td>1</td>\n",
       "    </tr>\n",
       "    <tr>\n",
       "      <th>Korean, Asian</th>\n",
       "      <td>0</td>\n",
       "      <td>1</td>\n",
       "      <td>1</td>\n",
       "    </tr>\n",
       "    <tr>\n",
       "      <th>Native Hawaiian or Other Pacific Islander, Asian Indian</th>\n",
       "      <td>0</td>\n",
       "      <td>1</td>\n",
       "      <td>1</td>\n",
       "    </tr>\n",
       "    <tr>\n",
       "      <th>Native Hawaiian, White</th>\n",
       "      <td>0</td>\n",
       "      <td>1</td>\n",
       "      <td>1</td>\n",
       "    </tr>\n",
       "    <tr>\n",
       "      <th>Japanese, Guamanian or Chamorro</th>\n",
       "      <td>1</td>\n",
       "      <td>0</td>\n",
       "      <td>1</td>\n",
       "    </tr>\n",
       "  </tbody>\n",
       "</table>\n",
       "<p>89 rows × 3 columns</p>\n",
       "</div>"
      ],
      "text/plain": [
       "Favorable Interest Rate                                 0      1     All\n",
       "Race                                                                    \n",
       "All                                                 55453  50742  106195\n",
       "White                                               38515  36926   75441\n",
       "Black or African American                           12537   8651   21188\n",
       "Asian, Asian Indian                                  1041   1440    2481\n",
       "Asian                                                 613    611    1224\n",
       "...                                                   ...    ...     ...\n",
       "Japanese, White                                         0      1       1\n",
       "Korean, Asian                                           0      1       1\n",
       "Native Hawaiian or Other Pacific Islander, Asia...      0      1       1\n",
       "Native Hawaiian, White                                  0      1       1\n",
       "Japanese, Guamanian or Chamorro                         1      0       1\n",
       "\n",
       "[89 rows x 3 columns]"
      ]
     },
     "metadata": {},
     "output_type": "display_data"
    },
    {
     "name": "stdout",
     "output_type": "stream",
     "text": [
      "\n",
      "===== Frequency Table: derived_sex_new vs favorable_action_taken =====\n",
      "\n"
     ]
    },
    {
     "data": {
      "text/html": [
       "<div>\n",
       "<style scoped>\n",
       "    .dataframe tbody tr th:only-of-type {\n",
       "        vertical-align: middle;\n",
       "    }\n",
       "\n",
       "    .dataframe tbody tr th {\n",
       "        vertical-align: top;\n",
       "    }\n",
       "\n",
       "    .dataframe thead th {\n",
       "        text-align: right;\n",
       "    }\n",
       "</style>\n",
       "<table border=\"1\" class=\"dataframe\">\n",
       "  <thead>\n",
       "    <tr style=\"text-align: right;\">\n",
       "      <th>Favorable Action Taken</th>\n",
       "      <th>0</th>\n",
       "      <th>1</th>\n",
       "      <th>All</th>\n",
       "    </tr>\n",
       "    <tr>\n",
       "      <th>Sex</th>\n",
       "      <th></th>\n",
       "      <th></th>\n",
       "      <th></th>\n",
       "    </tr>\n",
       "  </thead>\n",
       "  <tbody>\n",
       "    <tr>\n",
       "      <th>All</th>\n",
       "      <td>38759</td>\n",
       "      <td>67436</td>\n",
       "      <td>106195</td>\n",
       "    </tr>\n",
       "    <tr>\n",
       "      <th>Male, Female</th>\n",
       "      <td>22844</td>\n",
       "      <td>41938</td>\n",
       "      <td>64782</td>\n",
       "    </tr>\n",
       "    <tr>\n",
       "      <th>Female, Male</th>\n",
       "      <td>12134</td>\n",
       "      <td>19722</td>\n",
       "      <td>31856</td>\n",
       "    </tr>\n",
       "    <tr>\n",
       "      <th>Female, Female</th>\n",
       "      <td>2125</td>\n",
       "      <td>3028</td>\n",
       "      <td>5153</td>\n",
       "    </tr>\n",
       "    <tr>\n",
       "      <th>Male, Male</th>\n",
       "      <td>1513</td>\n",
       "      <td>2550</td>\n",
       "      <td>4063</td>\n",
       "    </tr>\n",
       "    <tr>\n",
       "      <th>Applicant selected both male and female, Female</th>\n",
       "      <td>63</td>\n",
       "      <td>89</td>\n",
       "      <td>152</td>\n",
       "    </tr>\n",
       "    <tr>\n",
       "      <th>Applicant selected both male and female, Male</th>\n",
       "      <td>43</td>\n",
       "      <td>62</td>\n",
       "      <td>105</td>\n",
       "    </tr>\n",
       "    <tr>\n",
       "      <th>Male, Applicant selected both male and female</th>\n",
       "      <td>19</td>\n",
       "      <td>23</td>\n",
       "      <td>42</td>\n",
       "    </tr>\n",
       "    <tr>\n",
       "      <th>Female, Applicant selected both male and female</th>\n",
       "      <td>13</td>\n",
       "      <td>16</td>\n",
       "      <td>29</td>\n",
       "    </tr>\n",
       "    <tr>\n",
       "      <th>Applicant selected both male and female, Applicant selected both male and female</th>\n",
       "      <td>5</td>\n",
       "      <td>8</td>\n",
       "      <td>13</td>\n",
       "    </tr>\n",
       "  </tbody>\n",
       "</table>\n",
       "</div>"
      ],
      "text/plain": [
       "Favorable Action Taken                                  0      1     All\n",
       "Sex                                                                     \n",
       "All                                                 38759  67436  106195\n",
       "Male, Female                                        22844  41938   64782\n",
       "Female, Male                                        12134  19722   31856\n",
       "Female, Female                                       2125   3028    5153\n",
       "Male, Male                                           1513   2550    4063\n",
       "Applicant selected both male and female, Female        63     89     152\n",
       "Applicant selected both male and female, Male          43     62     105\n",
       "Male, Applicant selected both male and female          19     23      42\n",
       "Female, Applicant selected both male and female        13     16      29\n",
       "Applicant selected both male and female, Applic...      5      8      13"
      ]
     },
     "metadata": {},
     "output_type": "display_data"
    },
    {
     "name": "stdout",
     "output_type": "stream",
     "text": [
      "\n",
      "===== Frequency Table: derived_sex_new vs favorable_interest_rate =====\n",
      "\n"
     ]
    },
    {
     "data": {
      "text/html": [
       "<div>\n",
       "<style scoped>\n",
       "    .dataframe tbody tr th:only-of-type {\n",
       "        vertical-align: middle;\n",
       "    }\n",
       "\n",
       "    .dataframe tbody tr th {\n",
       "        vertical-align: top;\n",
       "    }\n",
       "\n",
       "    .dataframe thead th {\n",
       "        text-align: right;\n",
       "    }\n",
       "</style>\n",
       "<table border=\"1\" class=\"dataframe\">\n",
       "  <thead>\n",
       "    <tr style=\"text-align: right;\">\n",
       "      <th>Favorable Interest Rate</th>\n",
       "      <th>0</th>\n",
       "      <th>1</th>\n",
       "      <th>All</th>\n",
       "    </tr>\n",
       "    <tr>\n",
       "      <th>Sex</th>\n",
       "      <th></th>\n",
       "      <th></th>\n",
       "      <th></th>\n",
       "    </tr>\n",
       "  </thead>\n",
       "  <tbody>\n",
       "    <tr>\n",
       "      <th>All</th>\n",
       "      <td>55453</td>\n",
       "      <td>50742</td>\n",
       "      <td>106195</td>\n",
       "    </tr>\n",
       "    <tr>\n",
       "      <th>Male, Female</th>\n",
       "      <td>33599</td>\n",
       "      <td>31183</td>\n",
       "      <td>64782</td>\n",
       "    </tr>\n",
       "    <tr>\n",
       "      <th>Female, Male</th>\n",
       "      <td>16990</td>\n",
       "      <td>14866</td>\n",
       "      <td>31856</td>\n",
       "    </tr>\n",
       "    <tr>\n",
       "      <th>Female, Female</th>\n",
       "      <td>2687</td>\n",
       "      <td>2466</td>\n",
       "      <td>5153</td>\n",
       "    </tr>\n",
       "    <tr>\n",
       "      <th>Male, Male</th>\n",
       "      <td>2002</td>\n",
       "      <td>2061</td>\n",
       "      <td>4063</td>\n",
       "    </tr>\n",
       "    <tr>\n",
       "      <th>Applicant selected both male and female, Female</th>\n",
       "      <td>79</td>\n",
       "      <td>73</td>\n",
       "      <td>152</td>\n",
       "    </tr>\n",
       "    <tr>\n",
       "      <th>Applicant selected both male and female, Male</th>\n",
       "      <td>51</td>\n",
       "      <td>54</td>\n",
       "      <td>105</td>\n",
       "    </tr>\n",
       "    <tr>\n",
       "      <th>Male, Applicant selected both male and female</th>\n",
       "      <td>23</td>\n",
       "      <td>19</td>\n",
       "      <td>42</td>\n",
       "    </tr>\n",
       "    <tr>\n",
       "      <th>Female, Applicant selected both male and female</th>\n",
       "      <td>15</td>\n",
       "      <td>14</td>\n",
       "      <td>29</td>\n",
       "    </tr>\n",
       "    <tr>\n",
       "      <th>Applicant selected both male and female, Applicant selected both male and female</th>\n",
       "      <td>7</td>\n",
       "      <td>6</td>\n",
       "      <td>13</td>\n",
       "    </tr>\n",
       "  </tbody>\n",
       "</table>\n",
       "</div>"
      ],
      "text/plain": [
       "Favorable Interest Rate                                 0      1     All\n",
       "Sex                                                                     \n",
       "All                                                 55453  50742  106195\n",
       "Male, Female                                        33599  31183   64782\n",
       "Female, Male                                        16990  14866   31856\n",
       "Female, Female                                       2687   2466    5153\n",
       "Male, Male                                           2002   2061    4063\n",
       "Applicant selected both male and female, Female        79     73     152\n",
       "Applicant selected both male and female, Male          51     54     105\n",
       "Male, Applicant selected both male and female          23     19      42\n",
       "Female, Applicant selected both male and female        15     14      29\n",
       "Applicant selected both male and female, Applic...      7      6      13"
      ]
     },
     "metadata": {},
     "output_type": "display_data"
    },
    {
     "name": "stdout",
     "output_type": "stream",
     "text": [
      "\n",
      "===== Top 10 Raw Frequencies for: Race (derived_race_new) =====\n",
      "\n",
      "derived_race_new\n",
      "White                               75441\n",
      "Black or African American           21188\n",
      "Asian, Asian Indian                  2481\n",
      "Asian                                1224\n",
      "Asian Indian                          829\n",
      "Asian, Vietnamese                     705\n",
      "Asian, Chinese                        599\n",
      "Asian, Korean                         599\n",
      "Asian, Other Asian                    493\n",
      "Black or African American, White      385\n",
      "Name: count, dtype: int64\n",
      "\n",
      "===== Top 10 Raw Frequencies for: Sex (derived_sex_new) =====\n",
      "\n",
      "derived_sex_new\n",
      "Male, Female                                                                        64782\n",
      "Female, Male                                                                        31856\n",
      "Female, Female                                                                       5153\n",
      "Male, Male                                                                           4063\n",
      "Applicant selected both male and female, Female                                       152\n",
      "Applicant selected both male and female, Male                                         105\n",
      "Male, Applicant selected both male and female                                          42\n",
      "Female, Applicant selected both male and female                                        29\n",
      "Applicant selected both male and female, Applicant selected both male and female       13\n",
      "Name: count, dtype: int64\n"
     ]
    }
   ],
   "source": [
    "import matplotlib.pyplot as plt\n",
    "import seaborn as sns\n",
    "import os\n",
    "protected_classes = {\n",
    "    \"derived_race_new\": \"Race\",\n",
    "    \"derived_sex_new\": \"Sex\"\n",
    "}\n",
    "dependent_variables = {\n",
    "    \"favorable_action_taken\": \"Favorable Action Taken\",\n",
    "    \"favorable_interest_rate\": \"Favorable Interest Rate\"\n",
    "}\n",
    "\n",
    "os.makedirs(\"charts\", exist_ok=True)\n",
    "\n",
    "tables = []\n",
    "for protected_var, protected_label in protected_classes.items():\n",
    "    for dependent_var, dependent_label in dependent_variables.items():\n",
    "        freq_table = pd.crosstab(filtered[protected_var], filtered[dependent_var], margins=True, dropna=False)\n",
    "        freq_table = freq_table.loc[freq_table[\"All\"].sort_values(ascending=False).index]\n",
    "        freq_table.columns.name = dependent_label\n",
    "        freq_table.index.name = protected_label\n",
    "        tables.append((protected_var, dependent_var, freq_table))\n",
    "\n",
    "        plt.figure(figsize=(10, 6))\n",
    "        sns.countplot(data=filtered, x=protected_var, hue=dependent_var)\n",
    "        plt.title(f\"{protected_label} vs {dependent_label}\")\n",
    "        plt.xlabel(protected_label)\n",
    "        plt.ylabel(\"Count\")\n",
    "        plt.xticks(rotation=45, ha='right')\n",
    "        plt.tight_layout()\n",
    "        plt.savefig(f\"charts/{protected_var}_vs_{dependent_var}.png\")\n",
    "        plt.close()\n",
    "\n",
    "for protected_var, dependent_var, table in tables:\n",
    "    print(f\"\\n===== Frequency Table: {protected_var} vs {dependent_var} =====\\n\")\n",
    "    display(table)\n",
    "for protected_var, protected_label in protected_classes.items():\n",
    "    print(f\"\\n===== Top 10 Raw Frequencies for: {protected_label} ({protected_var}) =====\\n\")\n",
    "    print(filtered[protected_var].value_counts(dropna=False).sort_values(ascending=False).head(10))\n"
   ]
  },
  {
   "cell_type": "code",
   "execution_count": 12,
   "id": "2b49f56f",
   "metadata": {},
   "outputs": [
    {
     "name": "stdout",
     "output_type": "stream",
     "text": [
      "\\begin{table}\n",
      "\\caption{Top 10 Derived Race Strings with Encoded Values}\n",
      "\\label{tab:top_race_encoded}\n",
      "\\begin{tabular}{lr}\n",
      "\\toprule\n",
      "Derived Race & Encoded Value \\\\\n",
      "\\midrule\n",
      "White & 75 \\\\\n",
      "Black or African American & 26 \\\\\n",
      "Asian, Asian Indian & 15 \\\\\n",
      "Asian & 8 \\\\\n",
      "Asian Indian & 9 \\\\\n",
      "Asian, Vietnamese & 24 \\\\\n",
      "Asian, Chinese & 17 \\\\\n",
      "Asian, Korean & 20 \\\\\n",
      "Asian, Other Asian & 22 \\\\\n",
      "Black or African American, White & 38 \\\\\n",
      "\\bottomrule\n",
      "\\end{tabular}\n",
      "\\end{table}\n",
      "\n",
      "\\begin{table}\n",
      "\\caption{Top 10 Derived Sex Strings with Encoded Values}\n",
      "\\label{tab:top_sex_encoded}\n",
      "\\begin{tabular}{lr}\n",
      "\\toprule\n",
      "Derived Sex & Encoded Value \\\\\n",
      "\\midrule\n",
      "Male, Female & 7 \\\\\n",
      "Female, Male & 5 \\\\\n",
      "Female, Female & 4 \\\\\n",
      "Male, Male & 8 \\\\\n",
      "Applicant selected both male and female, Female & 1 \\\\\n",
      "Applicant selected both male and female, Male & 2 \\\\\n",
      "Male, Applicant selected both male and female & 6 \\\\\n",
      "Female, Applicant selected both male and female & 3 \\\\\n",
      "Applicant selected both male and female, Applicant selected both male and female & 0 \\\\\n",
      "\\bottomrule\n",
      "\\end{tabular}\n",
      "\\end{table}\n",
      "\n"
     ]
    }
   ],
   "source": [
    "# Get top 10 derived races with their encoded values (excluding counts)\n",
    "top_10_races = (\n",
    "    filtered[['derived_race_new', 'derived_race_encoded']]\n",
    "    .drop_duplicates()\n",
    "    .set_index('derived_race_new')\n",
    "    .loc[filtered['derived_race_new'].value_counts().head(10).index]\n",
    "    .reset_index()\n",
    "    .rename(columns={\n",
    "        'derived_race_new': 'Derived Race',\n",
    "        'derived_race_encoded': 'Encoded Value'\n",
    "    })\n",
    ")\n",
    "\n",
    "print(top_10_races.to_latex(index=False, caption=\"Top 10 Derived Race Strings with Encoded Values\", label=\"tab:top_race_encoded\"))\n",
    "\n",
    "# Get top 10 derived sexes with their encoded values (excluding counts)\n",
    "top_10_sexes = (\n",
    "    filtered[['derived_sex_new', 'derived_sex_encoded']]\n",
    "    .drop_duplicates()\n",
    "    .set_index('derived_sex_new')\n",
    "    .loc[filtered['derived_sex_new'].value_counts().head(10).index]\n",
    "    .reset_index()\n",
    "    .rename(columns={\n",
    "        'derived_sex_new': 'Derived Sex',\n",
    "        'derived_sex_encoded': 'Encoded Value'\n",
    "    })\n",
    ")\n",
    "\n",
    "print(top_10_sexes.to_latex(index=False, caption=\"Top 10 Derived Sex Strings with Encoded Values\", label=\"tab:top_sex_encoded\"))\n"
   ]
  },
  {
   "cell_type": "code",
   "execution_count": 13,
   "id": "a4f19516",
   "metadata": {},
   "outputs": [
    {
     "name": "stdout",
     "output_type": "stream",
     "text": [
      "\n",
      "===== Frequency Table: derived_race_new vs favorable_action_taken =====\n",
      "\n",
      "\\begin{table}\n",
      "\\caption{derived_race_new vs favorable_action_taken}\n",
      "\\label{tab:derived_race_new_vs_favorable_action_taken}\n",
      "\\begin{tabular}{lrr}\n",
      "\\toprule\n",
      "Favorable Action Taken & 0 & 1 \\\\\n",
      "Race &  &  \\\\\n",
      "\\midrule\n",
      "Asian & 446 & 778 \\\\\n",
      "Asian Indian & 353 & 476 \\\\\n",
      "Asian, Asian Indian & 816 & 1665 \\\\\n",
      "Asian, Chinese & 162 & 437 \\\\\n",
      "Asian, Korean & 180 & 419 \\\\\n",
      "Asian, Other Asian & 173 & 320 \\\\\n",
      "Asian, Vietnamese & 221 & 484 \\\\\n",
      "Black or African American & 10085 & 11103 \\\\\n",
      "Black or African American, White & 180 & 205 \\\\\n",
      "White & 25211 & 50230 \\\\\n",
      "\\bottomrule\n",
      "\\end{tabular}\n",
      "\\end{table}\n",
      "\n",
      "\n",
      "===== Frequency Table: derived_race_new vs favorable_interest_rate =====\n",
      "\n",
      "\\begin{table}\n",
      "\\caption{derived_race_new vs favorable_interest_rate}\n",
      "\\label{tab:derived_race_new_vs_favorable_interest_rate}\n",
      "\\begin{tabular}{lrr}\n",
      "\\toprule\n",
      "Favorable Interest Rate & 0 & 1 \\\\\n",
      "Race &  &  \\\\\n",
      "\\midrule\n",
      "Asian & 613 & 611 \\\\\n",
      "Asian Indian & 417 & 412 \\\\\n",
      "Asian, Asian Indian & 1041 & 1440 \\\\\n",
      "Asian, Chinese & 199 & 400 \\\\\n",
      "Asian, Korean & 232 & 367 \\\\\n",
      "Asian, Other Asian & 219 & 274 \\\\\n",
      "Asian, Vietnamese & 284 & 421 \\\\\n",
      "Black or African American & 12537 & 8651 \\\\\n",
      "Black or African American, White & 210 & 175 \\\\\n",
      "White & 38515 & 36926 \\\\\n",
      "\\bottomrule\n",
      "\\end{tabular}\n",
      "\\end{table}\n",
      "\n",
      "\n",
      "===== Frequency Table: derived_sex_new vs favorable_action_taken =====\n",
      "\n",
      "\\begin{table}\n",
      "\\caption{derived_sex_new vs favorable_action_taken}\n",
      "\\label{tab:derived_sex_new_vs_favorable_action_taken}\n",
      "\\begin{tabular}{lrr}\n",
      "\\toprule\n",
      "Favorable Action Taken & 0 & 1 \\\\\n",
      "Sex &  &  \\\\\n",
      "\\midrule\n",
      "Applicant selected both male and female, Applicant selected both male and female & 5 & 8 \\\\\n",
      "Applicant selected both male and female, Female & 63 & 89 \\\\\n",
      "Applicant selected both male and female, Male & 43 & 62 \\\\\n",
      "Female, Applicant selected both male and female & 13 & 16 \\\\\n",
      "Female, Female & 2125 & 3028 \\\\\n",
      "Female, Male & 12134 & 19722 \\\\\n",
      "Male, Applicant selected both male and female & 19 & 23 \\\\\n",
      "Male, Female & 22844 & 41938 \\\\\n",
      "Male, Male & 1513 & 2550 \\\\\n",
      "\\bottomrule\n",
      "\\end{tabular}\n",
      "\\end{table}\n",
      "\n",
      "\n",
      "===== Frequency Table: derived_sex_new vs favorable_interest_rate =====\n",
      "\n",
      "\\begin{table}\n",
      "\\caption{derived_sex_new vs favorable_interest_rate}\n",
      "\\label{tab:derived_sex_new_vs_favorable_interest_rate}\n",
      "\\begin{tabular}{lrr}\n",
      "\\toprule\n",
      "Favorable Interest Rate & 0 & 1 \\\\\n",
      "Sex &  &  \\\\\n",
      "\\midrule\n",
      "Applicant selected both male and female, Applicant selected both male and female & 7 & 6 \\\\\n",
      "Applicant selected both male and female, Female & 79 & 73 \\\\\n",
      "Applicant selected both male and female, Male & 51 & 54 \\\\\n",
      "Female, Applicant selected both male and female & 15 & 14 \\\\\n",
      "Female, Female & 2687 & 2466 \\\\\n",
      "Female, Male & 16990 & 14866 \\\\\n",
      "Male, Applicant selected both male and female & 23 & 19 \\\\\n",
      "Male, Female & 33599 & 31183 \\\\\n",
      "Male, Male & 2002 & 2061 \\\\\n",
      "\\bottomrule\n",
      "\\end{tabular}\n",
      "\\end{table}\n",
      "\n"
     ]
    }
   ],
   "source": [
    "# Ensure only top 10 race groups are used\n",
    "top_10_races = filtered['derived_race_new'].value_counts().head(10).index\n",
    "filtered_race = filtered[filtered['derived_race_new'].isin(top_10_races)]\n",
    "\n",
    "tables = []\n",
    "\n",
    "for protected_var, protected_label in {\n",
    "    'derived_race_new': 'Race',\n",
    "    'derived_sex_new': 'Sex'\n",
    "}.items():\n",
    "    subset = filtered_race if protected_var == 'derived_race_new' else filtered\n",
    "\n",
    "    for dependent_var, dependent_label in dependent_variables.items():\n",
    "        freq_table = pd.crosstab(subset[protected_var], subset[dependent_var], dropna=False)\n",
    "        freq_table.columns.name = dependent_label\n",
    "        freq_table.index.name = protected_label\n",
    "        tables.append((protected_var, dependent_var, freq_table))\n",
    "\n",
    "        plt.figure(figsize=(10, 6))\n",
    "        sns.countplot(data=subset, x=protected_var, hue=dependent_var,\n",
    "                      order=subset[protected_var].value_counts().head(10).index if protected_var == 'derived_race_new' else None)\n",
    "        plt.title(f\"{protected_label} vs {dependent_label}\")\n",
    "        plt.xlabel(protected_label)\n",
    "        plt.ylabel(\"Count\")\n",
    "        plt.xticks(rotation=45, ha='right')\n",
    "        plt.tight_layout()\n",
    "        plt.savefig(f\"charts/{protected_var}_vs_{dependent_var}.png\")\n",
    "        plt.close()\n",
    "\n",
    "# Display all frequency tables\n",
    "for protected_var, dependent_var, table in tables:\n",
    "    print(f\"\\n===== Frequency Table: {protected_var} vs {dependent_var} =====\\n\")\n",
    "    print(table.to_latex(index=True, caption=f\"{protected_var} vs {dependent_var}\", label=f\"tab:{protected_var}_vs_{dependent_var}\"))\n"
   ]
  },
  {
   "cell_type": "code",
   "execution_count": 23,
   "id": "2746f009",
   "metadata": {},
   "outputs": [
    {
     "name": "stdout",
     "output_type": "stream",
     "text": [
      "Requirement already satisfied: plotly in /Users/olivialawson/anaconda3/envs/pymc_env/lib/python3.12/site-packages (6.2.0)\n",
      "Requirement already satisfied: narwhals>=1.15.1 in /Users/olivialawson/anaconda3/envs/pymc_env/lib/python3.12/site-packages (from plotly) (1.47.1)\n",
      "Requirement already satisfied: packaging in /Users/olivialawson/anaconda3/envs/pymc_env/lib/python3.12/site-packages (from plotly) (24.2)\n",
      "Note: you may need to restart the kernel to use updated packages.\n",
      "\n",
      "===== Abbreviation Key for Race =====\n",
      "\n",
      "White: White\n",
      "Black or African American: Black or African American\n",
      "Asian, Asian Indian: Asian, Asian Indian\n",
      "Asian: Asian\n",
      "Asian Indian: Asian Indian\n",
      "Asian, Vietnamese: Asian, Vietnamese\n",
      "Asian, Korean: Asian, Korean\n",
      "Asian, Chinese: Asian, Chinese\n",
      "Asian, Other Asian: Asian, Other Asian\n",
      "Black or African American, White: Black or African American, White\n"
     ]
    },
    {
     "data": {
      "application/vnd.plotly.v1+json": {
       "config": {
        "plotlyServerURL": "https://plot.ly"
       },
       "data": [
        {
         "marker": {
          "color": "#a6bddb",
          "pattern": {
           "shape": "\\"
          }
         },
         "name": "favorable_interest_rate: 1",
         "showlegend": true,
         "type": "bar",
         "x": [
          "White",
          "Black or African American",
          "Asian, Asian Indian",
          "Asian",
          "Asian Indian",
          "Asian, Vietnamese",
          "Asian, Korean",
          "Asian, Chinese",
          "Asian, Other Asian",
          "Black or African American, White"
         ],
         "xaxis": "x",
         "y": {
          "bdata": "PpAAAMshAACgBQAAYwIAAJwBAAClAQAAbwEAAJABAAASAQAArwAAAA==",
          "dtype": "i4"
         },
         "yaxis": "y"
        },
        {
         "marker": {
          "color": "#fcae91",
          "pattern": {
           "shape": "/"
          }
         },
         "name": "favorable_interest_rate: 0",
         "showlegend": true,
         "type": "bar",
         "x": [
          "White",
          "Black or African American",
          "Asian, Asian Indian",
          "Asian",
          "Asian Indian",
          "Asian, Vietnamese",
          "Asian, Korean",
          "Asian, Chinese",
          "Asian, Other Asian",
          "Black or African American, White"
         ],
         "xaxis": "x",
         "y": {
          "bdata": "c5YAAPkwAAARBAAAZQIAAKEBAAAcAQAA6AAAAMcAAADbAAAA0gAAAA==",
          "dtype": "i4"
         },
         "yaxis": "y"
        },
        {
         "marker": {
          "color": "#a6bddb",
          "pattern": {
           "shape": "\\"
          }
         },
         "name": "favorable_action_taken: 1",
         "showlegend": false,
         "type": "bar",
         "x": [
          "White",
          "Black or African American",
          "Asian, Asian Indian",
          "Asian",
          "Asian Indian",
          "Asian, Vietnamese",
          "Asian, Korean",
          "Asian, Chinese",
          "Asian, Other Asian",
          "Black or African American, White"
         ],
         "xaxis": "x2",
         "y": {
          "bdata": "NsQAAF8rAACBBgAACgMAANwBAADkAQAAowEAALUBAABAAQAAzQAAAA==",
          "dtype": "i4"
         },
         "yaxis": "y2"
        },
        {
         "marker": {
          "color": "#fcae91",
          "pattern": {
           "shape": "/"
          }
         },
         "name": "favorable_action_taken: 0",
         "showlegend": false,
         "type": "bar",
         "x": [
          "White",
          "Black or African American",
          "Asian, Asian Indian",
          "Asian",
          "Asian Indian",
          "Asian, Vietnamese",
          "Asian, Korean",
          "Asian, Chinese",
          "Asian, Other Asian",
          "Black or African American, White"
         ],
         "xaxis": "x2",
         "y": {
          "bdata": "e2JlJzADvgFhAd0AtACiAK0AtAA=",
          "dtype": "i2"
         },
         "yaxis": "y2"
        }
       ],
       "layout": {
        "annotations": [
         {
          "font": {
           "size": 16
          },
          "showarrow": false,
          "text": "Favorable Interest Rate",
          "x": 0.2125,
          "xanchor": "center",
          "xref": "paper",
          "y": 1,
          "yanchor": "bottom",
          "yref": "paper"
         },
         {
          "font": {
           "size": 16
          },
          "showarrow": false,
          "text": "Favorable Action Taken",
          "x": 0.7875,
          "xanchor": "center",
          "xref": "paper",
          "y": 1,
          "yanchor": "bottom",
          "yref": "paper"
         }
        ],
        "barmode": "group",
        "height": 700,
        "legend": {
         "title": {
          "text": "Outcome Value"
         }
        },
        "template": {
         "data": {
          "bar": [
           {
            "error_x": {
             "color": "#2a3f5f"
            },
            "error_y": {
             "color": "#2a3f5f"
            },
            "marker": {
             "line": {
              "color": "#E5ECF6",
              "width": 0.5
             },
             "pattern": {
              "fillmode": "overlay",
              "size": 10,
              "solidity": 0.2
             }
            },
            "type": "bar"
           }
          ],
          "barpolar": [
           {
            "marker": {
             "line": {
              "color": "#E5ECF6",
              "width": 0.5
             },
             "pattern": {
              "fillmode": "overlay",
              "size": 10,
              "solidity": 0.2
             }
            },
            "type": "barpolar"
           }
          ],
          "carpet": [
           {
            "aaxis": {
             "endlinecolor": "#2a3f5f",
             "gridcolor": "white",
             "linecolor": "white",
             "minorgridcolor": "white",
             "startlinecolor": "#2a3f5f"
            },
            "baxis": {
             "endlinecolor": "#2a3f5f",
             "gridcolor": "white",
             "linecolor": "white",
             "minorgridcolor": "white",
             "startlinecolor": "#2a3f5f"
            },
            "type": "carpet"
           }
          ],
          "choropleth": [
           {
            "colorbar": {
             "outlinewidth": 0,
             "ticks": ""
            },
            "type": "choropleth"
           }
          ],
          "contour": [
           {
            "colorbar": {
             "outlinewidth": 0,
             "ticks": ""
            },
            "colorscale": [
             [
              0,
              "#0d0887"
             ],
             [
              0.1111111111111111,
              "#46039f"
             ],
             [
              0.2222222222222222,
              "#7201a8"
             ],
             [
              0.3333333333333333,
              "#9c179e"
             ],
             [
              0.4444444444444444,
              "#bd3786"
             ],
             [
              0.5555555555555556,
              "#d8576b"
             ],
             [
              0.6666666666666666,
              "#ed7953"
             ],
             [
              0.7777777777777778,
              "#fb9f3a"
             ],
             [
              0.8888888888888888,
              "#fdca26"
             ],
             [
              1,
              "#f0f921"
             ]
            ],
            "type": "contour"
           }
          ],
          "contourcarpet": [
           {
            "colorbar": {
             "outlinewidth": 0,
             "ticks": ""
            },
            "type": "contourcarpet"
           }
          ],
          "heatmap": [
           {
            "colorbar": {
             "outlinewidth": 0,
             "ticks": ""
            },
            "colorscale": [
             [
              0,
              "#0d0887"
             ],
             [
              0.1111111111111111,
              "#46039f"
             ],
             [
              0.2222222222222222,
              "#7201a8"
             ],
             [
              0.3333333333333333,
              "#9c179e"
             ],
             [
              0.4444444444444444,
              "#bd3786"
             ],
             [
              0.5555555555555556,
              "#d8576b"
             ],
             [
              0.6666666666666666,
              "#ed7953"
             ],
             [
              0.7777777777777778,
              "#fb9f3a"
             ],
             [
              0.8888888888888888,
              "#fdca26"
             ],
             [
              1,
              "#f0f921"
             ]
            ],
            "type": "heatmap"
           }
          ],
          "histogram": [
           {
            "marker": {
             "pattern": {
              "fillmode": "overlay",
              "size": 10,
              "solidity": 0.2
             }
            },
            "type": "histogram"
           }
          ],
          "histogram2d": [
           {
            "colorbar": {
             "outlinewidth": 0,
             "ticks": ""
            },
            "colorscale": [
             [
              0,
              "#0d0887"
             ],
             [
              0.1111111111111111,
              "#46039f"
             ],
             [
              0.2222222222222222,
              "#7201a8"
             ],
             [
              0.3333333333333333,
              "#9c179e"
             ],
             [
              0.4444444444444444,
              "#bd3786"
             ],
             [
              0.5555555555555556,
              "#d8576b"
             ],
             [
              0.6666666666666666,
              "#ed7953"
             ],
             [
              0.7777777777777778,
              "#fb9f3a"
             ],
             [
              0.8888888888888888,
              "#fdca26"
             ],
             [
              1,
              "#f0f921"
             ]
            ],
            "type": "histogram2d"
           }
          ],
          "histogram2dcontour": [
           {
            "colorbar": {
             "outlinewidth": 0,
             "ticks": ""
            },
            "colorscale": [
             [
              0,
              "#0d0887"
             ],
             [
              0.1111111111111111,
              "#46039f"
             ],
             [
              0.2222222222222222,
              "#7201a8"
             ],
             [
              0.3333333333333333,
              "#9c179e"
             ],
             [
              0.4444444444444444,
              "#bd3786"
             ],
             [
              0.5555555555555556,
              "#d8576b"
             ],
             [
              0.6666666666666666,
              "#ed7953"
             ],
             [
              0.7777777777777778,
              "#fb9f3a"
             ],
             [
              0.8888888888888888,
              "#fdca26"
             ],
             [
              1,
              "#f0f921"
             ]
            ],
            "type": "histogram2dcontour"
           }
          ],
          "mesh3d": [
           {
            "colorbar": {
             "outlinewidth": 0,
             "ticks": ""
            },
            "type": "mesh3d"
           }
          ],
          "parcoords": [
           {
            "line": {
             "colorbar": {
              "outlinewidth": 0,
              "ticks": ""
             }
            },
            "type": "parcoords"
           }
          ],
          "pie": [
           {
            "automargin": true,
            "type": "pie"
           }
          ],
          "scatter": [
           {
            "fillpattern": {
             "fillmode": "overlay",
             "size": 10,
             "solidity": 0.2
            },
            "type": "scatter"
           }
          ],
          "scatter3d": [
           {
            "line": {
             "colorbar": {
              "outlinewidth": 0,
              "ticks": ""
             }
            },
            "marker": {
             "colorbar": {
              "outlinewidth": 0,
              "ticks": ""
             }
            },
            "type": "scatter3d"
           }
          ],
          "scattercarpet": [
           {
            "marker": {
             "colorbar": {
              "outlinewidth": 0,
              "ticks": ""
             }
            },
            "type": "scattercarpet"
           }
          ],
          "scattergeo": [
           {
            "marker": {
             "colorbar": {
              "outlinewidth": 0,
              "ticks": ""
             }
            },
            "type": "scattergeo"
           }
          ],
          "scattergl": [
           {
            "marker": {
             "colorbar": {
              "outlinewidth": 0,
              "ticks": ""
             }
            },
            "type": "scattergl"
           }
          ],
          "scattermap": [
           {
            "marker": {
             "colorbar": {
              "outlinewidth": 0,
              "ticks": ""
             }
            },
            "type": "scattermap"
           }
          ],
          "scattermapbox": [
           {
            "marker": {
             "colorbar": {
              "outlinewidth": 0,
              "ticks": ""
             }
            },
            "type": "scattermapbox"
           }
          ],
          "scatterpolar": [
           {
            "marker": {
             "colorbar": {
              "outlinewidth": 0,
              "ticks": ""
             }
            },
            "type": "scatterpolar"
           }
          ],
          "scatterpolargl": [
           {
            "marker": {
             "colorbar": {
              "outlinewidth": 0,
              "ticks": ""
             }
            },
            "type": "scatterpolargl"
           }
          ],
          "scatterternary": [
           {
            "marker": {
             "colorbar": {
              "outlinewidth": 0,
              "ticks": ""
             }
            },
            "type": "scatterternary"
           }
          ],
          "surface": [
           {
            "colorbar": {
             "outlinewidth": 0,
             "ticks": ""
            },
            "colorscale": [
             [
              0,
              "#0d0887"
             ],
             [
              0.1111111111111111,
              "#46039f"
             ],
             [
              0.2222222222222222,
              "#7201a8"
             ],
             [
              0.3333333333333333,
              "#9c179e"
             ],
             [
              0.4444444444444444,
              "#bd3786"
             ],
             [
              0.5555555555555556,
              "#d8576b"
             ],
             [
              0.6666666666666666,
              "#ed7953"
             ],
             [
              0.7777777777777778,
              "#fb9f3a"
             ],
             [
              0.8888888888888888,
              "#fdca26"
             ],
             [
              1,
              "#f0f921"
             ]
            ],
            "type": "surface"
           }
          ],
          "table": [
           {
            "cells": {
             "fill": {
              "color": "#EBF0F8"
             },
             "line": {
              "color": "white"
             }
            },
            "header": {
             "fill": {
              "color": "#C8D4E3"
             },
             "line": {
              "color": "white"
             }
            },
            "type": "table"
           }
          ]
         },
         "layout": {
          "annotationdefaults": {
           "arrowcolor": "#2a3f5f",
           "arrowhead": 0,
           "arrowwidth": 1
          },
          "autotypenumbers": "strict",
          "coloraxis": {
           "colorbar": {
            "outlinewidth": 0,
            "ticks": ""
           }
          },
          "colorscale": {
           "diverging": [
            [
             0,
             "#8e0152"
            ],
            [
             0.1,
             "#c51b7d"
            ],
            [
             0.2,
             "#de77ae"
            ],
            [
             0.3,
             "#f1b6da"
            ],
            [
             0.4,
             "#fde0ef"
            ],
            [
             0.5,
             "#f7f7f7"
            ],
            [
             0.6,
             "#e6f5d0"
            ],
            [
             0.7,
             "#b8e186"
            ],
            [
             0.8,
             "#7fbc41"
            ],
            [
             0.9,
             "#4d9221"
            ],
            [
             1,
             "#276419"
            ]
           ],
           "sequential": [
            [
             0,
             "#0d0887"
            ],
            [
             0.1111111111111111,
             "#46039f"
            ],
            [
             0.2222222222222222,
             "#7201a8"
            ],
            [
             0.3333333333333333,
             "#9c179e"
            ],
            [
             0.4444444444444444,
             "#bd3786"
            ],
            [
             0.5555555555555556,
             "#d8576b"
            ],
            [
             0.6666666666666666,
             "#ed7953"
            ],
            [
             0.7777777777777778,
             "#fb9f3a"
            ],
            [
             0.8888888888888888,
             "#fdca26"
            ],
            [
             1,
             "#f0f921"
            ]
           ],
           "sequentialminus": [
            [
             0,
             "#0d0887"
            ],
            [
             0.1111111111111111,
             "#46039f"
            ],
            [
             0.2222222222222222,
             "#7201a8"
            ],
            [
             0.3333333333333333,
             "#9c179e"
            ],
            [
             0.4444444444444444,
             "#bd3786"
            ],
            [
             0.5555555555555556,
             "#d8576b"
            ],
            [
             0.6666666666666666,
             "#ed7953"
            ],
            [
             0.7777777777777778,
             "#fb9f3a"
            ],
            [
             0.8888888888888888,
             "#fdca26"
            ],
            [
             1,
             "#f0f921"
            ]
           ]
          },
          "colorway": [
           "#636efa",
           "#EF553B",
           "#00cc96",
           "#ab63fa",
           "#FFA15A",
           "#19d3f3",
           "#FF6692",
           "#B6E880",
           "#FF97FF",
           "#FECB52"
          ],
          "font": {
           "color": "#2a3f5f"
          },
          "geo": {
           "bgcolor": "white",
           "lakecolor": "white",
           "landcolor": "#E5ECF6",
           "showlakes": true,
           "showland": true,
           "subunitcolor": "white"
          },
          "hoverlabel": {
           "align": "left"
          },
          "hovermode": "closest",
          "mapbox": {
           "style": "light"
          },
          "paper_bgcolor": "white",
          "plot_bgcolor": "#E5ECF6",
          "polar": {
           "angularaxis": {
            "gridcolor": "white",
            "linecolor": "white",
            "ticks": ""
           },
           "bgcolor": "#E5ECF6",
           "radialaxis": {
            "gridcolor": "white",
            "linecolor": "white",
            "ticks": ""
           }
          },
          "scene": {
           "xaxis": {
            "backgroundcolor": "#E5ECF6",
            "gridcolor": "white",
            "gridwidth": 2,
            "linecolor": "white",
            "showbackground": true,
            "ticks": "",
            "zerolinecolor": "white"
           },
           "yaxis": {
            "backgroundcolor": "#E5ECF6",
            "gridcolor": "white",
            "gridwidth": 2,
            "linecolor": "white",
            "showbackground": true,
            "ticks": "",
            "zerolinecolor": "white"
           },
           "zaxis": {
            "backgroundcolor": "#E5ECF6",
            "gridcolor": "white",
            "gridwidth": 2,
            "linecolor": "white",
            "showbackground": true,
            "ticks": "",
            "zerolinecolor": "white"
           }
          },
          "shapedefaults": {
           "line": {
            "color": "#2a3f5f"
           }
          },
          "ternary": {
           "aaxis": {
            "gridcolor": "white",
            "linecolor": "white",
            "ticks": ""
           },
           "baxis": {
            "gridcolor": "white",
            "linecolor": "white",
            "ticks": ""
           },
           "bgcolor": "#E5ECF6",
           "caxis": {
            "gridcolor": "white",
            "linecolor": "white",
            "ticks": ""
           }
          },
          "title": {
           "x": 0.05
          },
          "xaxis": {
           "automargin": true,
           "gridcolor": "white",
           "linecolor": "white",
           "ticks": "",
           "title": {
            "standoff": 15
           },
           "zerolinecolor": "white",
           "zerolinewidth": 2
          },
          "yaxis": {
           "automargin": true,
           "gridcolor": "white",
           "linecolor": "white",
           "ticks": "",
           "title": {
            "standoff": 15
           },
           "zerolinecolor": "white",
           "zerolinewidth": 2
          }
         }
        },
        "title": {
         "text": "Race vs Favorable Outcomes"
        },
        "width": 1000,
        "xaxis": {
         "anchor": "y",
         "domain": [
          0,
          0.425
         ],
         "tickangle": -45
        },
        "xaxis2": {
         "anchor": "y2",
         "domain": [
          0.575,
          1
         ],
         "tickangle": -45
        },
        "yaxis": {
         "anchor": "x",
         "domain": [
          0,
          1
         ]
        },
        "yaxis2": {
         "anchor": "x2",
         "domain": [
          0,
          1
         ]
        }
       }
      }
     },
     "metadata": {},
     "output_type": "display_data"
    },
    {
     "name": "stdout",
     "output_type": "stream",
     "text": [
      "\n",
      "===== Abbreviation Key for Sex =====\n",
      "\n",
      "Male, Female: Male, Female\n",
      "Female, Male: Female, Male\n",
      "Female, Female: Female, Female\n",
      "Male, Male: Male, Male\n",
      "both,  Female: Applicant selected both male and female, Female\n",
      "both,  Male: Applicant selected both male and female, Male\n",
      "Male, both: Male, Applicant selected both male and female\n",
      "Female, both: Female, Applicant selected both male and female\n",
      "both, both: Applicant selected both male and female, Applicant selected both male and female\n"
     ]
    },
    {
     "data": {
      "application/vnd.plotly.v1+json": {
       "config": {
        "plotlyServerURL": "https://plot.ly"
       },
       "data": [
        {
         "marker": {
          "color": "#a6bddb",
          "pattern": {
           "shape": "\\"
          }
         },
         "name": "favorable_interest_rate: 1",
         "showlegend": true,
         "type": "bar",
         "x": [
          "Male, Female",
          "Female, Male",
          "Female, Female",
          "Male, Male",
          "both,  Female",
          "both,  Male",
          "Male, both",
          "Female, both",
          "both, both"
         ],
         "xaxis": "x",
         "y": {
          "bdata": "z3kSOqIJDQhJADYAEwAOAAYA",
          "dtype": "i2"
         },
         "yaxis": "y"
        },
        {
         "marker": {
          "color": "#fcae91",
          "pattern": {
           "shape": "/"
          }
         },
         "name": "favorable_interest_rate: 0",
         "showlegend": true,
         "type": "bar",
         "x": [
          "Male, Female",
          "Female, Male",
          "Female, Female",
          "Male, Male",
          "both,  Female",
          "both,  Male",
          "Male, both",
          "Female, both",
          "both, both"
         ],
         "xaxis": "x",
         "y": {
          "bdata": "P4MAAF5CAAB/CgAA0gcAAE8AAAAzAAAAFwAAAA8AAAAHAAAA",
          "dtype": "i4"
         },
         "yaxis": "y"
        },
        {
         "marker": {
          "color": "#a6bddb",
          "pattern": {
           "shape": "\\"
          }
         },
         "name": "favorable_action_taken: 1",
         "showlegend": false,
         "type": "bar",
         "x": [
          "Male, Female",
          "Female, Male",
          "Female, Female",
          "Male, Male",
          "both,  Female",
          "both,  Male",
          "Male, both",
          "Female, both",
          "both, both"
         ],
         "xaxis": "x2",
         "y": {
          "bdata": "0qMAAApNAADUCwAA9gkAAFkAAAA+AAAAFwAAABAAAAAIAAAA",
          "dtype": "i4"
         },
         "yaxis": "y2"
        },
        {
         "marker": {
          "color": "#fcae91",
          "pattern": {
           "shape": "/"
          }
         },
         "name": "favorable_action_taken: 0",
         "showlegend": false,
         "type": "bar",
         "x": [
          "Male, Female",
          "Female, Male",
          "Female, Female",
          "Male, Male",
          "both,  Female",
          "both,  Male",
          "Male, both",
          "Female, both",
          "both, both"
         ],
         "xaxis": "x2",
         "y": {
          "bdata": "PFlmL00I6QU/ACsAEwANAAUA",
          "dtype": "i2"
         },
         "yaxis": "y2"
        }
       ],
       "layout": {
        "annotations": [
         {
          "font": {
           "size": 16
          },
          "showarrow": false,
          "text": "Favorable Interest Rate",
          "x": 0.2125,
          "xanchor": "center",
          "xref": "paper",
          "y": 1,
          "yanchor": "bottom",
          "yref": "paper"
         },
         {
          "font": {
           "size": 16
          },
          "showarrow": false,
          "text": "Favorable Action Taken",
          "x": 0.7875,
          "xanchor": "center",
          "xref": "paper",
          "y": 1,
          "yanchor": "bottom",
          "yref": "paper"
         }
        ],
        "barmode": "group",
        "height": 700,
        "legend": {
         "title": {
          "text": "Outcome Value"
         }
        },
        "template": {
         "data": {
          "bar": [
           {
            "error_x": {
             "color": "#2a3f5f"
            },
            "error_y": {
             "color": "#2a3f5f"
            },
            "marker": {
             "line": {
              "color": "#E5ECF6",
              "width": 0.5
             },
             "pattern": {
              "fillmode": "overlay",
              "size": 10,
              "solidity": 0.2
             }
            },
            "type": "bar"
           }
          ],
          "barpolar": [
           {
            "marker": {
             "line": {
              "color": "#E5ECF6",
              "width": 0.5
             },
             "pattern": {
              "fillmode": "overlay",
              "size": 10,
              "solidity": 0.2
             }
            },
            "type": "barpolar"
           }
          ],
          "carpet": [
           {
            "aaxis": {
             "endlinecolor": "#2a3f5f",
             "gridcolor": "white",
             "linecolor": "white",
             "minorgridcolor": "white",
             "startlinecolor": "#2a3f5f"
            },
            "baxis": {
             "endlinecolor": "#2a3f5f",
             "gridcolor": "white",
             "linecolor": "white",
             "minorgridcolor": "white",
             "startlinecolor": "#2a3f5f"
            },
            "type": "carpet"
           }
          ],
          "choropleth": [
           {
            "colorbar": {
             "outlinewidth": 0,
             "ticks": ""
            },
            "type": "choropleth"
           }
          ],
          "contour": [
           {
            "colorbar": {
             "outlinewidth": 0,
             "ticks": ""
            },
            "colorscale": [
             [
              0,
              "#0d0887"
             ],
             [
              0.1111111111111111,
              "#46039f"
             ],
             [
              0.2222222222222222,
              "#7201a8"
             ],
             [
              0.3333333333333333,
              "#9c179e"
             ],
             [
              0.4444444444444444,
              "#bd3786"
             ],
             [
              0.5555555555555556,
              "#d8576b"
             ],
             [
              0.6666666666666666,
              "#ed7953"
             ],
             [
              0.7777777777777778,
              "#fb9f3a"
             ],
             [
              0.8888888888888888,
              "#fdca26"
             ],
             [
              1,
              "#f0f921"
             ]
            ],
            "type": "contour"
           }
          ],
          "contourcarpet": [
           {
            "colorbar": {
             "outlinewidth": 0,
             "ticks": ""
            },
            "type": "contourcarpet"
           }
          ],
          "heatmap": [
           {
            "colorbar": {
             "outlinewidth": 0,
             "ticks": ""
            },
            "colorscale": [
             [
              0,
              "#0d0887"
             ],
             [
              0.1111111111111111,
              "#46039f"
             ],
             [
              0.2222222222222222,
              "#7201a8"
             ],
             [
              0.3333333333333333,
              "#9c179e"
             ],
             [
              0.4444444444444444,
              "#bd3786"
             ],
             [
              0.5555555555555556,
              "#d8576b"
             ],
             [
              0.6666666666666666,
              "#ed7953"
             ],
             [
              0.7777777777777778,
              "#fb9f3a"
             ],
             [
              0.8888888888888888,
              "#fdca26"
             ],
             [
              1,
              "#f0f921"
             ]
            ],
            "type": "heatmap"
           }
          ],
          "histogram": [
           {
            "marker": {
             "pattern": {
              "fillmode": "overlay",
              "size": 10,
              "solidity": 0.2
             }
            },
            "type": "histogram"
           }
          ],
          "histogram2d": [
           {
            "colorbar": {
             "outlinewidth": 0,
             "ticks": ""
            },
            "colorscale": [
             [
              0,
              "#0d0887"
             ],
             [
              0.1111111111111111,
              "#46039f"
             ],
             [
              0.2222222222222222,
              "#7201a8"
             ],
             [
              0.3333333333333333,
              "#9c179e"
             ],
             [
              0.4444444444444444,
              "#bd3786"
             ],
             [
              0.5555555555555556,
              "#d8576b"
             ],
             [
              0.6666666666666666,
              "#ed7953"
             ],
             [
              0.7777777777777778,
              "#fb9f3a"
             ],
             [
              0.8888888888888888,
              "#fdca26"
             ],
             [
              1,
              "#f0f921"
             ]
            ],
            "type": "histogram2d"
           }
          ],
          "histogram2dcontour": [
           {
            "colorbar": {
             "outlinewidth": 0,
             "ticks": ""
            },
            "colorscale": [
             [
              0,
              "#0d0887"
             ],
             [
              0.1111111111111111,
              "#46039f"
             ],
             [
              0.2222222222222222,
              "#7201a8"
             ],
             [
              0.3333333333333333,
              "#9c179e"
             ],
             [
              0.4444444444444444,
              "#bd3786"
             ],
             [
              0.5555555555555556,
              "#d8576b"
             ],
             [
              0.6666666666666666,
              "#ed7953"
             ],
             [
              0.7777777777777778,
              "#fb9f3a"
             ],
             [
              0.8888888888888888,
              "#fdca26"
             ],
             [
              1,
              "#f0f921"
             ]
            ],
            "type": "histogram2dcontour"
           }
          ],
          "mesh3d": [
           {
            "colorbar": {
             "outlinewidth": 0,
             "ticks": ""
            },
            "type": "mesh3d"
           }
          ],
          "parcoords": [
           {
            "line": {
             "colorbar": {
              "outlinewidth": 0,
              "ticks": ""
             }
            },
            "type": "parcoords"
           }
          ],
          "pie": [
           {
            "automargin": true,
            "type": "pie"
           }
          ],
          "scatter": [
           {
            "fillpattern": {
             "fillmode": "overlay",
             "size": 10,
             "solidity": 0.2
            },
            "type": "scatter"
           }
          ],
          "scatter3d": [
           {
            "line": {
             "colorbar": {
              "outlinewidth": 0,
              "ticks": ""
             }
            },
            "marker": {
             "colorbar": {
              "outlinewidth": 0,
              "ticks": ""
             }
            },
            "type": "scatter3d"
           }
          ],
          "scattercarpet": [
           {
            "marker": {
             "colorbar": {
              "outlinewidth": 0,
              "ticks": ""
             }
            },
            "type": "scattercarpet"
           }
          ],
          "scattergeo": [
           {
            "marker": {
             "colorbar": {
              "outlinewidth": 0,
              "ticks": ""
             }
            },
            "type": "scattergeo"
           }
          ],
          "scattergl": [
           {
            "marker": {
             "colorbar": {
              "outlinewidth": 0,
              "ticks": ""
             }
            },
            "type": "scattergl"
           }
          ],
          "scattermap": [
           {
            "marker": {
             "colorbar": {
              "outlinewidth": 0,
              "ticks": ""
             }
            },
            "type": "scattermap"
           }
          ],
          "scattermapbox": [
           {
            "marker": {
             "colorbar": {
              "outlinewidth": 0,
              "ticks": ""
             }
            },
            "type": "scattermapbox"
           }
          ],
          "scatterpolar": [
           {
            "marker": {
             "colorbar": {
              "outlinewidth": 0,
              "ticks": ""
             }
            },
            "type": "scatterpolar"
           }
          ],
          "scatterpolargl": [
           {
            "marker": {
             "colorbar": {
              "outlinewidth": 0,
              "ticks": ""
             }
            },
            "type": "scatterpolargl"
           }
          ],
          "scatterternary": [
           {
            "marker": {
             "colorbar": {
              "outlinewidth": 0,
              "ticks": ""
             }
            },
            "type": "scatterternary"
           }
          ],
          "surface": [
           {
            "colorbar": {
             "outlinewidth": 0,
             "ticks": ""
            },
            "colorscale": [
             [
              0,
              "#0d0887"
             ],
             [
              0.1111111111111111,
              "#46039f"
             ],
             [
              0.2222222222222222,
              "#7201a8"
             ],
             [
              0.3333333333333333,
              "#9c179e"
             ],
             [
              0.4444444444444444,
              "#bd3786"
             ],
             [
              0.5555555555555556,
              "#d8576b"
             ],
             [
              0.6666666666666666,
              "#ed7953"
             ],
             [
              0.7777777777777778,
              "#fb9f3a"
             ],
             [
              0.8888888888888888,
              "#fdca26"
             ],
             [
              1,
              "#f0f921"
             ]
            ],
            "type": "surface"
           }
          ],
          "table": [
           {
            "cells": {
             "fill": {
              "color": "#EBF0F8"
             },
             "line": {
              "color": "white"
             }
            },
            "header": {
             "fill": {
              "color": "#C8D4E3"
             },
             "line": {
              "color": "white"
             }
            },
            "type": "table"
           }
          ]
         },
         "layout": {
          "annotationdefaults": {
           "arrowcolor": "#2a3f5f",
           "arrowhead": 0,
           "arrowwidth": 1
          },
          "autotypenumbers": "strict",
          "coloraxis": {
           "colorbar": {
            "outlinewidth": 0,
            "ticks": ""
           }
          },
          "colorscale": {
           "diverging": [
            [
             0,
             "#8e0152"
            ],
            [
             0.1,
             "#c51b7d"
            ],
            [
             0.2,
             "#de77ae"
            ],
            [
             0.3,
             "#f1b6da"
            ],
            [
             0.4,
             "#fde0ef"
            ],
            [
             0.5,
             "#f7f7f7"
            ],
            [
             0.6,
             "#e6f5d0"
            ],
            [
             0.7,
             "#b8e186"
            ],
            [
             0.8,
             "#7fbc41"
            ],
            [
             0.9,
             "#4d9221"
            ],
            [
             1,
             "#276419"
            ]
           ],
           "sequential": [
            [
             0,
             "#0d0887"
            ],
            [
             0.1111111111111111,
             "#46039f"
            ],
            [
             0.2222222222222222,
             "#7201a8"
            ],
            [
             0.3333333333333333,
             "#9c179e"
            ],
            [
             0.4444444444444444,
             "#bd3786"
            ],
            [
             0.5555555555555556,
             "#d8576b"
            ],
            [
             0.6666666666666666,
             "#ed7953"
            ],
            [
             0.7777777777777778,
             "#fb9f3a"
            ],
            [
             0.8888888888888888,
             "#fdca26"
            ],
            [
             1,
             "#f0f921"
            ]
           ],
           "sequentialminus": [
            [
             0,
             "#0d0887"
            ],
            [
             0.1111111111111111,
             "#46039f"
            ],
            [
             0.2222222222222222,
             "#7201a8"
            ],
            [
             0.3333333333333333,
             "#9c179e"
            ],
            [
             0.4444444444444444,
             "#bd3786"
            ],
            [
             0.5555555555555556,
             "#d8576b"
            ],
            [
             0.6666666666666666,
             "#ed7953"
            ],
            [
             0.7777777777777778,
             "#fb9f3a"
            ],
            [
             0.8888888888888888,
             "#fdca26"
            ],
            [
             1,
             "#f0f921"
            ]
           ]
          },
          "colorway": [
           "#636efa",
           "#EF553B",
           "#00cc96",
           "#ab63fa",
           "#FFA15A",
           "#19d3f3",
           "#FF6692",
           "#B6E880",
           "#FF97FF",
           "#FECB52"
          ],
          "font": {
           "color": "#2a3f5f"
          },
          "geo": {
           "bgcolor": "white",
           "lakecolor": "white",
           "landcolor": "#E5ECF6",
           "showlakes": true,
           "showland": true,
           "subunitcolor": "white"
          },
          "hoverlabel": {
           "align": "left"
          },
          "hovermode": "closest",
          "mapbox": {
           "style": "light"
          },
          "paper_bgcolor": "white",
          "plot_bgcolor": "#E5ECF6",
          "polar": {
           "angularaxis": {
            "gridcolor": "white",
            "linecolor": "white",
            "ticks": ""
           },
           "bgcolor": "#E5ECF6",
           "radialaxis": {
            "gridcolor": "white",
            "linecolor": "white",
            "ticks": ""
           }
          },
          "scene": {
           "xaxis": {
            "backgroundcolor": "#E5ECF6",
            "gridcolor": "white",
            "gridwidth": 2,
            "linecolor": "white",
            "showbackground": true,
            "ticks": "",
            "zerolinecolor": "white"
           },
           "yaxis": {
            "backgroundcolor": "#E5ECF6",
            "gridcolor": "white",
            "gridwidth": 2,
            "linecolor": "white",
            "showbackground": true,
            "ticks": "",
            "zerolinecolor": "white"
           },
           "zaxis": {
            "backgroundcolor": "#E5ECF6",
            "gridcolor": "white",
            "gridwidth": 2,
            "linecolor": "white",
            "showbackground": true,
            "ticks": "",
            "zerolinecolor": "white"
           }
          },
          "shapedefaults": {
           "line": {
            "color": "#2a3f5f"
           }
          },
          "ternary": {
           "aaxis": {
            "gridcolor": "white",
            "linecolor": "white",
            "ticks": ""
           },
           "baxis": {
            "gridcolor": "white",
            "linecolor": "white",
            "ticks": ""
           },
           "bgcolor": "#E5ECF6",
           "caxis": {
            "gridcolor": "white",
            "linecolor": "white",
            "ticks": ""
           }
          },
          "title": {
           "x": 0.05
          },
          "xaxis": {
           "automargin": true,
           "gridcolor": "white",
           "linecolor": "white",
           "ticks": "",
           "title": {
            "standoff": 15
           },
           "zerolinecolor": "white",
           "zerolinewidth": 2
          },
          "yaxis": {
           "automargin": true,
           "gridcolor": "white",
           "linecolor": "white",
           "ticks": "",
           "title": {
            "standoff": 15
           },
           "zerolinecolor": "white",
           "zerolinewidth": 2
          }
         }
        },
        "title": {
         "text": "Sex vs Favorable Outcomes"
        },
        "width": 1000,
        "xaxis": {
         "anchor": "y",
         "domain": [
          0,
          0.425
         ],
         "tickangle": -45
        },
        "xaxis2": {
         "anchor": "y2",
         "domain": [
          0.575,
          1
         ],
         "tickangle": -45
        },
        "yaxis": {
         "anchor": "x",
         "domain": [
          0,
          1
         ]
        },
        "yaxis2": {
         "anchor": "x2",
         "domain": [
          0,
          1
         ]
        }
       }
      }
     },
     "metadata": {},
     "output_type": "display_data"
    }
   ],
   "source": [
    "%pip install plotly\n",
    "import plotly.graph_objects as go\n",
    "from plotly.subplots import make_subplots\n",
    "bar_colors = ['#a6bddb', '#fcae91']\n",
    "pattern_shapes = ['\\\\', '/']\n",
    "\n",
    "def abbreviate_labels(labels):\n",
    "    abbr = {label: f\"{label}\" if 'both' not in label else ', '.join([i if 'both' not in i else 'both' for i in label.split(',')]) for i, label in enumerate(labels)}\n",
    "    return abbr, list(abbr.values()), abbr.items()\n",
    "\n",
    "for protected_var, protected_label in {\n",
    "    'derived_race_new': 'Race',\n",
    "    'derived_sex_new': 'Sex'\n",
    "}.items():\n",
    "    subset = filtered_race if protected_var == 'derived_race_new' else filtered\n",
    "    category_order = (\n",
    "        subset[protected_var]\n",
    "        .value_counts()\n",
    "        .head(10 if protected_var == 'derived_race_new' else None)\n",
    "        .sort_values(ascending=False)\n",
    "        .index.tolist()\n",
    "    )\n",
    "\n",
    "    abbr_map, abbr_labels, abbr_items = abbreviate_labels(category_order)\n",
    "    subset = subset[subset[protected_var].isin(category_order)].copy()\n",
    "    subset['abbr_label'] = subset[protected_var].map(abbr_map)\n",
    "\n",
    "    fig = make_subplots(\n",
    "        rows=1, cols=2,\n",
    "        subplot_titles=[\"Favorable Interest Rate\", \"Favorable Action Taken\"],\n",
    "        horizontal_spacing=0.15\n",
    "    )\n",
    "\n",
    "    for i, dep in enumerate(['favorable_interest_rate', 'favorable_action_taken']):\n",
    "        grouped = (\n",
    "            subset\n",
    "            .groupby(['abbr_label', dep])\n",
    "            .size()\n",
    "            .reset_index(name='count')\n",
    "        )\n",
    "        for j, val in enumerate([1, 0]):\n",
    "            df = grouped[grouped[dep] == val]\n",
    "            df['abbr_label'] = pd.Categorical(df['abbr_label'], categories=abbr_labels, ordered=True)\n",
    "            df = df.sort_values('abbr_label')\n",
    "            fig.add_trace(\n",
    "                go.Bar(\n",
    "                    x=df['abbr_label'],\n",
    "                    y=df['count'],\n",
    "                    name=f\"{dep}: {val}\",\n",
    "                    marker_color=bar_colors[j],\n",
    "                    marker_pattern_shape=pattern_shapes[j],\n",
    "                    showlegend=(i == 0)\n",
    "                ),\n",
    "                row=1, col=i+1\n",
    "            )\n",
    "\n",
    "    fig.update_layout(\n",
    "        title_text=f\"{protected_label} vs Favorable Outcomes\",\n",
    "        barmode='group',\n",
    "        height=700,\n",
    "        width=1000,\n",
    "        legend_title=\"Outcome Value\"\n",
    "    )\n",
    "    fig.update_xaxes(tickangle=-45)\n",
    "\n",
    "    print(f\"\\n===== Abbreviation Key for {protected_label} =====\\n\")\n",
    "    for long, short in abbr_items:\n",
    "        print(f\"{short}: {long}\")\n",
    "\n",
    "    fig.show()\n"
   ]
  }
 ],
 "metadata": {
  "kernelspec": {
   "display_name": "pymc_env",
   "language": "python",
   "name": "python3"
  },
  "language_info": {
   "codemirror_mode": {
    "name": "ipython",
    "version": 3
   },
   "file_extension": ".py",
   "mimetype": "text/x-python",
   "name": "python",
   "nbconvert_exporter": "python",
   "pygments_lexer": "ipython3",
   "version": "3.12.5"
  }
 },
 "nbformat": 4,
 "nbformat_minor": 5
}
